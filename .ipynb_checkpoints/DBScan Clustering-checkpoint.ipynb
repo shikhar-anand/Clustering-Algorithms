{
 "cells": [
  {
   "cell_type": "code",
   "execution_count": 1,
   "metadata": {},
   "outputs": [
    {
     "name": "stderr",
     "output_type": "stream",
     "text": [
      "Matplotlib created a temporary config/cache directory at /var/folders/th/4wk9mg4j3674pkjtsrtmfmzh0000gn/T/matplotlib-jmk55xjf because the default path (/Users/shikharanand/.matplotlib) is not a writable directory; it is highly recommended to set the MPLCONFIGDIR environment variable to a writable directory, in particular to speed up the import of Matplotlib and to better support multiprocessing.\n"
     ]
    }
   ],
   "source": [
    "import pandas as pd\n",
    "import numpy as np\n",
    "from sklearn.datasets import fetch_openml\n",
    "import matplotlib.pyplot as plt\n",
    "from sklearn.cluster import DBSCAN\n",
    "from sklearn.metrics import f1_score\n",
    "from sklearn.metrics.cluster import adjusted_rand_score\n",
    "from sklearn.metrics import silhouette_score"
   ]
  },
  {
   "cell_type": "code",
   "execution_count": 2,
   "metadata": {},
   "outputs": [
    {
     "name": "stderr",
     "output_type": "stream",
     "text": [
      "/Users/shikharanand/Anaconda3/anaconda3/lib/python3.8/site-packages/sklearn/datasets/_openml.py:373: UserWarning: Multiple active versions of the dataset matching the name glass exist. Versions may be fundamentally different, returning version 1.\n",
      "  warn(\"Multiple active versions of the dataset matching the name\"\n"
     ]
    }
   ],
   "source": [
    "wine = fetch_openml(name='glass')"
   ]
  },
  {
   "cell_type": "code",
   "execution_count": 3,
   "metadata": {},
   "outputs": [
    {
     "data": {
      "text/plain": [
       "{'data': array([[ 1.51793, 12.79   ,  3.5    , ...,  8.77   ,  0.     ,  0.     ],\n",
       "        [ 1.51643, 12.16   ,  3.52   , ...,  8.53   ,  0.     ,  0.     ],\n",
       "        [ 1.51793, 13.21   ,  3.48   , ...,  8.43   ,  0.     ,  0.     ],\n",
       "        ...,\n",
       "        [ 1.51613, 13.92   ,  3.52   , ...,  7.94   ,  0.     ,  0.14   ],\n",
       "        [ 1.51689, 12.67   ,  2.88   , ...,  8.54   ,  0.     ,  0.     ],\n",
       "        [ 1.51852, 14.09   ,  2.19   , ...,  9.32   ,  0.     ,  0.     ]]),\n",
       " 'target': array(['build wind float', 'vehic wind float', 'build wind float',\n",
       "        'tableware', 'build wind non-float', 'build wind non-float',\n",
       "        'vehic wind float', 'build wind float', 'headlamps',\n",
       "        'build wind non-float', 'build wind non-float',\n",
       "        'build wind non-float', 'build wind float', 'vehic wind float',\n",
       "        'vehic wind float', 'build wind non-float', 'headlamps',\n",
       "        'build wind non-float', 'containers', 'build wind non-float',\n",
       "        'build wind float', 'build wind non-float', 'build wind non-float',\n",
       "        'build wind float', 'containers', 'build wind non-float',\n",
       "        'build wind non-float', 'headlamps', 'build wind non-float',\n",
       "        'vehic wind float', 'build wind non-float', 'vehic wind float',\n",
       "        'tableware', 'build wind non-float', 'build wind float',\n",
       "        'build wind float', 'build wind float', 'build wind non-float',\n",
       "        'build wind non-float', 'build wind non-float', 'build wind float',\n",
       "        'build wind non-float', 'build wind non-float',\n",
       "        'build wind non-float', 'vehic wind float', 'build wind float',\n",
       "        'containers', 'build wind float', 'build wind float',\n",
       "        'build wind non-float', 'build wind float', 'build wind non-float',\n",
       "        'build wind float', 'build wind non-float', 'headlamps',\n",
       "        'build wind float', 'headlamps', 'build wind float',\n",
       "        'vehic wind float', 'build wind non-float', 'build wind non-float',\n",
       "        'build wind float', 'build wind float', 'build wind float',\n",
       "        'build wind float', 'headlamps', 'build wind float',\n",
       "        'vehic wind float', 'build wind non-float', 'build wind float',\n",
       "        'tableware', 'build wind non-float', 'tableware',\n",
       "        'build wind non-float', 'build wind float', 'build wind non-float',\n",
       "        'build wind float', 'build wind float', 'vehic wind float',\n",
       "        'build wind float', 'build wind float', 'build wind float',\n",
       "        'vehic wind float', 'build wind float', 'containers',\n",
       "        'build wind non-float', 'build wind non-float', 'build wind float',\n",
       "        'build wind float', 'build wind non-float', 'headlamps',\n",
       "        'build wind float', 'build wind float', 'tableware', 'headlamps',\n",
       "        'build wind float', 'headlamps', 'build wind non-float',\n",
       "        'build wind non-float', 'build wind non-float', 'build wind float',\n",
       "        'build wind non-float', 'headlamps', 'headlamps', 'headlamps',\n",
       "        'containers', 'build wind non-float', 'headlamps',\n",
       "        'build wind float', 'containers', 'build wind non-float',\n",
       "        'headlamps', 'build wind float', 'headlamps', 'vehic wind float',\n",
       "        'headlamps', 'build wind non-float', 'headlamps',\n",
       "        'build wind non-float', 'build wind float', 'build wind non-float',\n",
       "        'build wind float', 'build wind non-float', 'build wind non-float',\n",
       "        'containers', 'build wind float', 'headlamps', 'headlamps',\n",
       "        'build wind float', 'build wind float', 'build wind non-float',\n",
       "        'build wind non-float', 'headlamps', 'build wind float',\n",
       "        'containers', 'build wind float', 'build wind float',\n",
       "        'build wind non-float', 'build wind float', 'build wind non-float',\n",
       "        'build wind float', 'build wind float', 'build wind float',\n",
       "        'containers', 'build wind non-float', 'build wind non-float',\n",
       "        'build wind non-float', 'build wind non-float',\n",
       "        'build wind non-float', 'build wind non-float', 'headlamps',\n",
       "        'build wind float', 'build wind non-float', 'build wind non-float',\n",
       "        'vehic wind float', 'build wind float', 'headlamps', 'containers',\n",
       "        'build wind float', 'build wind non-float', 'build wind non-float',\n",
       "        'build wind float', 'headlamps', 'containers',\n",
       "        'build wind non-float', 'build wind float', 'build wind float',\n",
       "        'build wind non-float', 'build wind non-float', 'headlamps',\n",
       "        'build wind non-float', 'build wind non-float', 'build wind float',\n",
       "        'headlamps', 'build wind float', 'headlamps', 'build wind float',\n",
       "        'build wind float', 'containers', 'tableware',\n",
       "        'build wind non-float', 'build wind non-float', 'vehic wind float',\n",
       "        'build wind non-float', 'build wind float', 'headlamps',\n",
       "        'build wind float', 'build wind float', 'vehic wind float',\n",
       "        'containers', 'build wind float', 'build wind float', 'tableware',\n",
       "        'headlamps', 'tableware', 'build wind non-float',\n",
       "        'build wind non-float', 'build wind non-float',\n",
       "        'build wind non-float', 'build wind non-float',\n",
       "        'build wind non-float', 'build wind float', 'vehic wind float',\n",
       "        'build wind float', 'build wind non-float', 'build wind float',\n",
       "        'headlamps', 'build wind float', 'build wind float',\n",
       "        'vehic wind float', 'build wind non-float', 'build wind non-float',\n",
       "        'build wind non-float', 'tableware'], dtype=object),\n",
       " 'frame': None,\n",
       " 'categories': {},\n",
       " 'feature_names': ['RI', 'Na', 'Mg', 'Al', 'Si', 'K', 'Ca', 'Ba', 'Fe'],\n",
       " 'target_names': ['Type'],\n",
       " 'DESCR': '**Author**: B. German  \\n**Source**: [UCI Machine Learning Repository](https://archive.ics.uci.edu/ml/datasets/glass+identification) - 1987-09-01  \\n**Please cite**: [UCI citation policy](https://archive.ics.uci.edu/ml/citation_policy.html)  \\n\\n1. Title: Glass Identification Database\\n \\n 2. Sources:\\n     (a) Creator: B. German\\n         -- Central Research Establishment\\n            Home Office Forensic Science Service\\n            Aldermaston, Reading, Berkshire RG7 4PN\\n     (b) Donor: Vina Spiehler, Ph.D., DABFT\\n                Diagnostic Products Corporation\\n                (213) 776-0180 (ext 3014)\\n     (c) Date: September, 1987\\n \\n 3. Past Usage:\\n     -- Rule Induction in Forensic Science\\n        -- Ian W. Evett and Ernest J. Spiehler\\n        -- Central Research Establishment\\n           Home Office Forensic Science Service\\n           Aldermaston, Reading, Berkshire RG7 4PN\\n        -- Unknown technical note number (sorry, not listed here)\\n        -- General Results: nearest neighbor held its own with respect to the\\n              rule-based system\\n \\n 4. Relevant Information:n\\n       Vina conducted a comparison test of her rule-based system, BEAGLE, the\\n       nearest-neighbor algorithm, and discriminant analysis.  BEAGLE is \\n       a product available through VRS Consulting, Inc.; 4676 Admiralty Way,\\n       Suite 206; Marina Del Ray, CA 90292 (213) 827-7890 and FAX: -3189.\\n       In determining whether the glass was a type of \"float\" glass or not,\\n       the following results were obtained (# incorrect answers):\\n \\n              Type of Sample                            Beagle   NN    DA\\n              Windows that were float processed (87)     10      12    21\\n              Windows that were not:            (76)     19      16    22\\n \\n       The study of classification of types of glass was motivated by \\n       criminological investigation.  At the scene of the crime, the glass left\\n       can be used as evidence...if it is correctly identified!\\n \\n 5. Number of Instances: 214\\n \\n 6. Number of Attributes: 10 (including an Id#) plus the class attribute\\n    -- all attributes are continuously valued\\n \\n 7. Attribute Information:\\n    1. Id number: 1 to 214\\n    2. RI: refractive index\\n    3. Na: Sodium (unit measurement: weight percent in corresponding oxide, as \\n                   are attributes 4-10)\\n    4. Mg: Magnesium\\n    5. Al: Aluminum\\n    6. Si: Silicon\\n    7. K: Potassium\\n    8. Ca: Calcium\\n    9. Ba: Barium\\n   10. Fe: Iron\\n   11. Type of glass: (class attribute)\\n       -- 1 building_windows_float_processed\\n       -- 2 building_windows_non_float_processed\\n       -- 3 vehicle_windows_float_processed\\n       -- 4 vehicle_windows_non_float_processed (none in this database)\\n       -- 5 containers\\n       -- 6 tableware\\n       -- 7 headlamps\\n \\n 8. Missing Attribute Values: None\\n \\n Summary Statistics:\\n Attribute:   Min     Max      Mean     SD      Correlation with class\\n  2. RI:       1.5112  1.5339   1.5184  0.0030  -0.1642\\n  3. Na:      10.73   17.38    13.4079  0.8166   0.5030\\n  4. Mg:       0       4.49     2.6845  1.4424  -0.7447\\n  5. Al:       0.29    3.5      1.4449  0.4993   0.5988\\n  6. Si:      69.81   75.41    72.6509  0.7745   0.1515\\n  7. K:        0       6.21     0.4971  0.6522  -0.0100\\n  8. Ca:       5.43   16.19     8.9570  1.4232   0.0007\\n  9. Ba:       0       3.15     0.1750  0.4972   0.5751\\n 10. Fe:       0       0.51     0.0570  0.0974  -0.1879\\n \\n 9. Class Distribution: (out of 214 total instances)\\n     -- 163 Window glass (building windows and vehicle windows)\\n        -- 87 float processed  \\n           -- 70 building windows\\n           -- 17 vehicle windows\\n        -- 76 non-float processed\\n           -- 76 building windows\\n           -- 0 vehicle windows\\n     -- 51 Non-window glass\\n        -- 13 containers\\n        -- 9 tableware\\n        -- 29 headlamps\\n \\n \\n \\n\\n\\n\\n\\n Relabeled values in attribute \\'Type\\'\\n    From: \\'1\\'                     To: \\'build wind float\\'    \\n    From: \\'2\\'                     To: \\'build wind non-float\\'\\n    From: \\'3\\'                     To: \\'vehic wind float\\'    \\n    From: \\'4\\'                     To: \\'vehic wind non-float\\'\\n    From: \\'5\\'                     To: containers          \\n    From: \\'6\\'                     To: tableware           \\n    From: \\'7\\'                     To: headlamps\\n\\nDownloaded from openml.org.',\n",
       " 'details': {'id': '41',\n",
       "  'name': 'glass',\n",
       "  'version': '1',\n",
       "  'format': 'ARFF',\n",
       "  'creator': 'B. German',\n",
       "  'collection_date': '1987-09-01',\n",
       "  'upload_date': '2014-04-06T23:22:26',\n",
       "  'language': 'English',\n",
       "  'licence': 'Public',\n",
       "  'url': 'https://www.openml.org/data/v1/download/41/glass.arff',\n",
       "  'file_id': '41',\n",
       "  'default_target_attribute': 'Type',\n",
       "  'version_label': '1',\n",
       "  'citation': 'https://archive.ics.uci.edu/ml/citation_policy.html',\n",
       "  'tag': ['study_1', 'study_41', 'study_7', 'study_76', 'study_88', 'uci'],\n",
       "  'visibility': 'public',\n",
       "  'original_data_url': 'https://archive.ics.uci.edu/ml/datasets/glass+identification',\n",
       "  'paper_url': 'https://dl.acm.org/doi/abs/10.5555/67040.67055',\n",
       "  'status': 'active',\n",
       "  'processing_date': '2020-11-20 20:02:43',\n",
       "  'md5_checksum': 'd38f2d5484e30ec447bbd8b6d3354460'},\n",
       " 'url': 'https://www.openml.org/d/41'}"
      ]
     },
     "execution_count": 3,
     "metadata": {},
     "output_type": "execute_result"
    }
   ],
   "source": [
    "wine"
   ]
  },
  {
   "cell_type": "code",
   "execution_count": 4,
   "metadata": {},
   "outputs": [
    {
     "data": {
      "text/plain": [
       "array([[ 1.51793, 12.79   ,  3.5    , ...,  8.77   ,  0.     ,  0.     ],\n",
       "       [ 1.51643, 12.16   ,  3.52   , ...,  8.53   ,  0.     ,  0.     ],\n",
       "       [ 1.51793, 13.21   ,  3.48   , ...,  8.43   ,  0.     ,  0.     ],\n",
       "       ...,\n",
       "       [ 1.51613, 13.92   ,  3.52   , ...,  7.94   ,  0.     ,  0.14   ],\n",
       "       [ 1.51689, 12.67   ,  2.88   , ...,  8.54   ,  0.     ,  0.     ],\n",
       "       [ 1.51852, 14.09   ,  2.19   , ...,  9.32   ,  0.     ,  0.     ]])"
      ]
     },
     "execution_count": 4,
     "metadata": {},
     "output_type": "execute_result"
    }
   ],
   "source": [
    "wine.data"
   ]
  },
  {
   "cell_type": "code",
   "execution_count": 5,
   "metadata": {},
   "outputs": [
    {
     "data": {
      "text/plain": [
       "(214, 9)"
      ]
     },
     "execution_count": 5,
     "metadata": {},
     "output_type": "execute_result"
    }
   ],
   "source": [
    "wine.data.shape"
   ]
  },
  {
   "cell_type": "code",
   "execution_count": 6,
   "metadata": {},
   "outputs": [
    {
     "data": {
      "text/plain": [
       "['RI', 'Na', 'Mg', 'Al', 'Si', 'K', 'Ca', 'Ba', 'Fe']"
      ]
     },
     "execution_count": 6,
     "metadata": {},
     "output_type": "execute_result"
    }
   ],
   "source": [
    "wine.feature_names"
   ]
  },
  {
   "cell_type": "code",
   "execution_count": 7,
   "metadata": {},
   "outputs": [
    {
     "data": {
      "text/html": [
       "<div>\n",
       "<style scoped>\n",
       "    .dataframe tbody tr th:only-of-type {\n",
       "        vertical-align: middle;\n",
       "    }\n",
       "\n",
       "    .dataframe tbody tr th {\n",
       "        vertical-align: top;\n",
       "    }\n",
       "\n",
       "    .dataframe thead th {\n",
       "        text-align: right;\n",
       "    }\n",
       "</style>\n",
       "<table border=\"1\" class=\"dataframe\">\n",
       "  <thead>\n",
       "    <tr style=\"text-align: right;\">\n",
       "      <th></th>\n",
       "      <th>RI</th>\n",
       "      <th>Na</th>\n",
       "      <th>Mg</th>\n",
       "      <th>Al</th>\n",
       "      <th>Si</th>\n",
       "      <th>K</th>\n",
       "      <th>Ca</th>\n",
       "      <th>Ba</th>\n",
       "      <th>Fe</th>\n",
       "    </tr>\n",
       "  </thead>\n",
       "  <tbody>\n",
       "    <tr>\n",
       "      <th>0</th>\n",
       "      <td>1.51793</td>\n",
       "      <td>12.79</td>\n",
       "      <td>3.50</td>\n",
       "      <td>1.12</td>\n",
       "      <td>73.03</td>\n",
       "      <td>0.64</td>\n",
       "      <td>8.77</td>\n",
       "      <td>0.0</td>\n",
       "      <td>0.00</td>\n",
       "    </tr>\n",
       "    <tr>\n",
       "      <th>1</th>\n",
       "      <td>1.51643</td>\n",
       "      <td>12.16</td>\n",
       "      <td>3.52</td>\n",
       "      <td>1.35</td>\n",
       "      <td>72.89</td>\n",
       "      <td>0.57</td>\n",
       "      <td>8.53</td>\n",
       "      <td>0.0</td>\n",
       "      <td>0.00</td>\n",
       "    </tr>\n",
       "    <tr>\n",
       "      <th>2</th>\n",
       "      <td>1.51793</td>\n",
       "      <td>13.21</td>\n",
       "      <td>3.48</td>\n",
       "      <td>1.41</td>\n",
       "      <td>72.64</td>\n",
       "      <td>0.59</td>\n",
       "      <td>8.43</td>\n",
       "      <td>0.0</td>\n",
       "      <td>0.00</td>\n",
       "    </tr>\n",
       "    <tr>\n",
       "      <th>3</th>\n",
       "      <td>1.51299</td>\n",
       "      <td>14.40</td>\n",
       "      <td>1.74</td>\n",
       "      <td>1.54</td>\n",
       "      <td>74.55</td>\n",
       "      <td>0.00</td>\n",
       "      <td>7.59</td>\n",
       "      <td>0.0</td>\n",
       "      <td>0.00</td>\n",
       "    </tr>\n",
       "    <tr>\n",
       "      <th>4</th>\n",
       "      <td>1.53393</td>\n",
       "      <td>12.30</td>\n",
       "      <td>0.00</td>\n",
       "      <td>1.00</td>\n",
       "      <td>70.16</td>\n",
       "      <td>0.12</td>\n",
       "      <td>16.19</td>\n",
       "      <td>0.0</td>\n",
       "      <td>0.24</td>\n",
       "    </tr>\n",
       "  </tbody>\n",
       "</table>\n",
       "</div>"
      ],
      "text/plain": [
       "        RI     Na    Mg    Al     Si     K     Ca   Ba    Fe\n",
       "0  1.51793  12.79  3.50  1.12  73.03  0.64   8.77  0.0  0.00\n",
       "1  1.51643  12.16  3.52  1.35  72.89  0.57   8.53  0.0  0.00\n",
       "2  1.51793  13.21  3.48  1.41  72.64  0.59   8.43  0.0  0.00\n",
       "3  1.51299  14.40  1.74  1.54  74.55  0.00   7.59  0.0  0.00\n",
       "4  1.53393  12.30  0.00  1.00  70.16  0.12  16.19  0.0  0.24"
      ]
     },
     "execution_count": 7,
     "metadata": {},
     "output_type": "execute_result"
    }
   ],
   "source": [
    "X_df = pd.DataFrame(wine.data, columns = wine.feature_names)\n",
    "X_df.head()"
   ]
  },
  {
   "cell_type": "code",
   "execution_count": 8,
   "metadata": {
    "scrolled": true
   },
   "outputs": [
    {
     "data": {
      "text/plain": [
       "array(['build wind float', 'vehic wind float', 'build wind float',\n",
       "       'tableware', 'build wind non-float', 'build wind non-float',\n",
       "       'vehic wind float', 'build wind float', 'headlamps',\n",
       "       'build wind non-float', 'build wind non-float',\n",
       "       'build wind non-float', 'build wind float', 'vehic wind float',\n",
       "       'vehic wind float', 'build wind non-float', 'headlamps',\n",
       "       'build wind non-float', 'containers', 'build wind non-float',\n",
       "       'build wind float', 'build wind non-float', 'build wind non-float',\n",
       "       'build wind float', 'containers', 'build wind non-float',\n",
       "       'build wind non-float', 'headlamps', 'build wind non-float',\n",
       "       'vehic wind float', 'build wind non-float', 'vehic wind float',\n",
       "       'tableware', 'build wind non-float', 'build wind float',\n",
       "       'build wind float', 'build wind float', 'build wind non-float',\n",
       "       'build wind non-float', 'build wind non-float', 'build wind float',\n",
       "       'build wind non-float', 'build wind non-float',\n",
       "       'build wind non-float', 'vehic wind float', 'build wind float',\n",
       "       'containers', 'build wind float', 'build wind float',\n",
       "       'build wind non-float', 'build wind float', 'build wind non-float',\n",
       "       'build wind float', 'build wind non-float', 'headlamps',\n",
       "       'build wind float', 'headlamps', 'build wind float',\n",
       "       'vehic wind float', 'build wind non-float', 'build wind non-float',\n",
       "       'build wind float', 'build wind float', 'build wind float',\n",
       "       'build wind float', 'headlamps', 'build wind float',\n",
       "       'vehic wind float', 'build wind non-float', 'build wind float',\n",
       "       'tableware', 'build wind non-float', 'tableware',\n",
       "       'build wind non-float', 'build wind float', 'build wind non-float',\n",
       "       'build wind float', 'build wind float', 'vehic wind float',\n",
       "       'build wind float', 'build wind float', 'build wind float',\n",
       "       'vehic wind float', 'build wind float', 'containers',\n",
       "       'build wind non-float', 'build wind non-float', 'build wind float',\n",
       "       'build wind float', 'build wind non-float', 'headlamps',\n",
       "       'build wind float', 'build wind float', 'tableware', 'headlamps',\n",
       "       'build wind float', 'headlamps', 'build wind non-float',\n",
       "       'build wind non-float', 'build wind non-float', 'build wind float',\n",
       "       'build wind non-float', 'headlamps', 'headlamps', 'headlamps',\n",
       "       'containers', 'build wind non-float', 'headlamps',\n",
       "       'build wind float', 'containers', 'build wind non-float',\n",
       "       'headlamps', 'build wind float', 'headlamps', 'vehic wind float',\n",
       "       'headlamps', 'build wind non-float', 'headlamps',\n",
       "       'build wind non-float', 'build wind float', 'build wind non-float',\n",
       "       'build wind float', 'build wind non-float', 'build wind non-float',\n",
       "       'containers', 'build wind float', 'headlamps', 'headlamps',\n",
       "       'build wind float', 'build wind float', 'build wind non-float',\n",
       "       'build wind non-float', 'headlamps', 'build wind float',\n",
       "       'containers', 'build wind float', 'build wind float',\n",
       "       'build wind non-float', 'build wind float', 'build wind non-float',\n",
       "       'build wind float', 'build wind float', 'build wind float',\n",
       "       'containers', 'build wind non-float', 'build wind non-float',\n",
       "       'build wind non-float', 'build wind non-float',\n",
       "       'build wind non-float', 'build wind non-float', 'headlamps',\n",
       "       'build wind float', 'build wind non-float', 'build wind non-float',\n",
       "       'vehic wind float', 'build wind float', 'headlamps', 'containers',\n",
       "       'build wind float', 'build wind non-float', 'build wind non-float',\n",
       "       'build wind float', 'headlamps', 'containers',\n",
       "       'build wind non-float', 'build wind float', 'build wind float',\n",
       "       'build wind non-float', 'build wind non-float', 'headlamps',\n",
       "       'build wind non-float', 'build wind non-float', 'build wind float',\n",
       "       'headlamps', 'build wind float', 'headlamps', 'build wind float',\n",
       "       'build wind float', 'containers', 'tableware',\n",
       "       'build wind non-float', 'build wind non-float', 'vehic wind float',\n",
       "       'build wind non-float', 'build wind float', 'headlamps',\n",
       "       'build wind float', 'build wind float', 'vehic wind float',\n",
       "       'containers', 'build wind float', 'build wind float', 'tableware',\n",
       "       'headlamps', 'tableware', 'build wind non-float',\n",
       "       'build wind non-float', 'build wind non-float',\n",
       "       'build wind non-float', 'build wind non-float',\n",
       "       'build wind non-float', 'build wind float', 'vehic wind float',\n",
       "       'build wind float', 'build wind non-float', 'build wind float',\n",
       "       'headlamps', 'build wind float', 'build wind float',\n",
       "       'vehic wind float', 'build wind non-float', 'build wind non-float',\n",
       "       'build wind non-float', 'tableware'], dtype=object)"
      ]
     },
     "execution_count": 8,
     "metadata": {},
     "output_type": "execute_result"
    }
   ],
   "source": [
    "wine.target"
   ]
  },
  {
   "cell_type": "code",
   "execution_count": null,
   "metadata": {},
   "outputs": [],
   "source": []
  },
  {
   "cell_type": "code",
   "execution_count": 9,
   "metadata": {},
   "outputs": [
    {
     "data": {
      "text/plain": [
       "['Type']"
      ]
     },
     "execution_count": 9,
     "metadata": {},
     "output_type": "execute_result"
    }
   ],
   "source": [
    "wine.target_names"
   ]
  },
  {
   "cell_type": "code",
   "execution_count": 10,
   "metadata": {},
   "outputs": [
    {
     "data": {
      "text/html": [
       "<div>\n",
       "<style scoped>\n",
       "    .dataframe tbody tr th:only-of-type {\n",
       "        vertical-align: middle;\n",
       "    }\n",
       "\n",
       "    .dataframe tbody tr th {\n",
       "        vertical-align: top;\n",
       "    }\n",
       "\n",
       "    .dataframe thead th {\n",
       "        text-align: right;\n",
       "    }\n",
       "</style>\n",
       "<table border=\"1\" class=\"dataframe\">\n",
       "  <thead>\n",
       "    <tr style=\"text-align: right;\">\n",
       "      <th></th>\n",
       "      <th>Type</th>\n",
       "    </tr>\n",
       "  </thead>\n",
       "  <tbody>\n",
       "    <tr>\n",
       "      <th>0</th>\n",
       "      <td>build wind float</td>\n",
       "    </tr>\n",
       "    <tr>\n",
       "      <th>1</th>\n",
       "      <td>vehic wind float</td>\n",
       "    </tr>\n",
       "    <tr>\n",
       "      <th>2</th>\n",
       "      <td>build wind float</td>\n",
       "    </tr>\n",
       "    <tr>\n",
       "      <th>3</th>\n",
       "      <td>tableware</td>\n",
       "    </tr>\n",
       "    <tr>\n",
       "      <th>4</th>\n",
       "      <td>build wind non-float</td>\n",
       "    </tr>\n",
       "  </tbody>\n",
       "</table>\n",
       "</div>"
      ],
      "text/plain": [
       "                   Type\n",
       "0      build wind float\n",
       "1      vehic wind float\n",
       "2      build wind float\n",
       "3             tableware\n",
       "4  build wind non-float"
      ]
     },
     "execution_count": 10,
     "metadata": {},
     "output_type": "execute_result"
    }
   ],
   "source": [
    "y_df = pd.DataFrame(wine.target, columns = wine.target_names)\n",
    "y_df.head()"
   ]
  },
  {
   "cell_type": "code",
   "execution_count": 11,
   "metadata": {},
   "outputs": [
    {
     "data": {
      "text/plain": [
       "array(['build wind float', 'build wind non-float', 'containers',\n",
       "       'headlamps', 'tableware', 'vehic wind float'], dtype=object)"
      ]
     },
     "execution_count": 11,
     "metadata": {},
     "output_type": "execute_result"
    }
   ],
   "source": [
    "np.unique(wine.target)"
   ]
  },
  {
   "cell_type": "code",
   "execution_count": null,
   "metadata": {},
   "outputs": [],
   "source": []
  },
  {
   "cell_type": "code",
   "execution_count": 12,
   "metadata": {},
   "outputs": [],
   "source": [
    "y_df['Type'] = y_df['Type'].replace(['build wind float', 'build wind non-float', 'containers', 'headlamps', 'tableware', 'vehic wind float'], [0, 1, 2, 3, 4, 5])"
   ]
  },
  {
   "cell_type": "code",
   "execution_count": 13,
   "metadata": {},
   "outputs": [
    {
     "data": {
      "text/html": [
       "<div>\n",
       "<style scoped>\n",
       "    .dataframe tbody tr th:only-of-type {\n",
       "        vertical-align: middle;\n",
       "    }\n",
       "\n",
       "    .dataframe tbody tr th {\n",
       "        vertical-align: top;\n",
       "    }\n",
       "\n",
       "    .dataframe thead th {\n",
       "        text-align: right;\n",
       "    }\n",
       "</style>\n",
       "<table border=\"1\" class=\"dataframe\">\n",
       "  <thead>\n",
       "    <tr style=\"text-align: right;\">\n",
       "      <th></th>\n",
       "      <th>Type</th>\n",
       "    </tr>\n",
       "  </thead>\n",
       "  <tbody>\n",
       "    <tr>\n",
       "      <th>0</th>\n",
       "      <td>0</td>\n",
       "    </tr>\n",
       "    <tr>\n",
       "      <th>1</th>\n",
       "      <td>5</td>\n",
       "    </tr>\n",
       "    <tr>\n",
       "      <th>2</th>\n",
       "      <td>0</td>\n",
       "    </tr>\n",
       "    <tr>\n",
       "      <th>3</th>\n",
       "      <td>4</td>\n",
       "    </tr>\n",
       "    <tr>\n",
       "      <th>4</th>\n",
       "      <td>1</td>\n",
       "    </tr>\n",
       "    <tr>\n",
       "      <th>...</th>\n",
       "      <td>...</td>\n",
       "    </tr>\n",
       "    <tr>\n",
       "      <th>209</th>\n",
       "      <td>5</td>\n",
       "    </tr>\n",
       "    <tr>\n",
       "      <th>210</th>\n",
       "      <td>1</td>\n",
       "    </tr>\n",
       "    <tr>\n",
       "      <th>211</th>\n",
       "      <td>1</td>\n",
       "    </tr>\n",
       "    <tr>\n",
       "      <th>212</th>\n",
       "      <td>1</td>\n",
       "    </tr>\n",
       "    <tr>\n",
       "      <th>213</th>\n",
       "      <td>4</td>\n",
       "    </tr>\n",
       "  </tbody>\n",
       "</table>\n",
       "<p>214 rows × 1 columns</p>\n",
       "</div>"
      ],
      "text/plain": [
       "     Type\n",
       "0       0\n",
       "1       5\n",
       "2       0\n",
       "3       4\n",
       "4       1\n",
       "..    ...\n",
       "209     5\n",
       "210     1\n",
       "211     1\n",
       "212     1\n",
       "213     4\n",
       "\n",
       "[214 rows x 1 columns]"
      ]
     },
     "execution_count": 13,
     "metadata": {},
     "output_type": "execute_result"
    }
   ],
   "source": [
    "y_df"
   ]
  },
  {
   "cell_type": "code",
   "execution_count": 14,
   "metadata": {
    "scrolled": true
   },
   "outputs": [
    {
     "data": {
      "text/plain": [
       "<matplotlib.collections.PathCollection at 0x7fdf34004970>"
      ]
     },
     "execution_count": 14,
     "metadata": {},
     "output_type": "execute_result"
    },
    {
     "data": {
      "image/png": "[encoded data removed]",
      "text/plain": [
       "<Figure size 432x288 with 1 Axes>"
      ]
     },
     "metadata": {
      "needs_background": "light"
     },
     "output_type": "display_data"
    }
   ],
   "source": [
    "plt.scatter(wine.data[:,0], wine.target[:], cmap = 'rainbow', alpha=0.7)"
   ]
  },
  {
   "cell_type": "code",
   "execution_count": null,
   "metadata": {},
   "outputs": [],
   "source": []
  },
  {
   "cell_type": "code",
   "execution_count": 15,
   "metadata": {},
   "outputs": [
    {
     "data": {
      "text/plain": [
       "<matplotlib.collections.PathCollection at 0x7fdf3424bb50>"
      ]
     },
     "execution_count": 15,
     "metadata": {},
     "output_type": "execute_result"
    },
    {
     "data": {
      "image/png": "[encoded data removed]",
      "text/plain": [
       "<Figure size 432x288 with 1 Axes>"
      ]
     },
     "metadata": {
      "needs_background": "light"
     },
     "output_type": "display_data"
    }
   ],
   "source": [
    "plt.scatter(X_df.iloc[:,0], X_df.iloc[:,1], c=y_df.iloc[:,0], cmap='gist_rainbow')\n",
    "# plt.xlabel('Spea1 Length', fontsize=18)\n",
    "# plt.ylabel('Sepal Width', fontsize=18)"
   ]
  },
  {
   "cell_type": "markdown",
   "metadata": {},
   "source": [
    "### Instantiate dbscan algorithms"
   ]
  },
  {
   "cell_type": "code",
   "execution_count": 16,
   "metadata": {},
   "outputs": [],
   "source": [
    "dbscan = DBSCAN(eps=0.3)"
   ]
  },
  {
   "cell_type": "markdown",
   "metadata": {},
   "source": [
    "### Fit the algorithms to the features"
   ]
  },
  {
   "cell_type": "code",
   "execution_count": 17,
   "metadata": {},
   "outputs": [
    {
     "data": {
      "text/plain": [
       "DBSCAN(eps=0.3)"
      ]
     },
     "execution_count": 17,
     "metadata": {},
     "output_type": "execute_result"
    }
   ],
   "source": [
    "dbscan.fit(X_df)"
   ]
  },
  {
   "cell_type": "markdown",
   "metadata": {},
   "source": [
    "### Compute the silhouette scores for algorithm"
   ]
  },
  {
   "cell_type": "code",
   "execution_count": 18,
   "metadata": {},
   "outputs": [],
   "source": [
    "dbscan_silhouette = silhouette_score(X_df, dbscan.labels_).round(2)"
   ]
  },
  {
   "cell_type": "code",
   "execution_count": 19,
   "metadata": {},
   "outputs": [
    {
     "data": {
      "text/plain": [
       "-0.17"
      ]
     },
     "execution_count": 19,
     "metadata": {},
     "output_type": "execute_result"
    }
   ],
   "source": [
    "dbscan_silhouette"
   ]
  }
 ],
 "metadata": {
  "kernelspec": {
   "display_name": "Python 3",
   "language": "python",
   "name": "python3"
  },
  "language_info": {
   "codemirror_mode": {
    "name": "ipython",
    "version": 3
   },
   "file_extension": ".py",
   "mimetype": "text/x-python",
   "name": "python",
   "nbconvert_exporter": "python",
   "pygments_lexer": "ipython3",
   "version": "3.8.5"
  }
 },
 "nbformat": 4,
 "nbformat_minor": 4
}
